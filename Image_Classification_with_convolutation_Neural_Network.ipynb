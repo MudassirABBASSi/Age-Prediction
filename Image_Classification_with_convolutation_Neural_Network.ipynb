{
  "cells": [
    {
      "cell_type": "markdown",
      "metadata": {
        "id": "view-in-github",
        "colab_type": "text"
      },
      "source": [
        "<a href=\"https://colab.research.google.com/github/MudassirABBASSi/Age-Prediction/blob/main/Image_Classification_with_convolutation_Neural_Network.ipynb\" target=\"_parent\"><img src=\"https://colab.research.google.com/assets/colab-badge.svg\" alt=\"Open In Colab\"/></a>"
      ]
    },
    {
      "cell_type": "code",
      "execution_count": null,
      "metadata": {
        "id": "LFkmhtdqQDv7"
      },
      "outputs": [],
      "source": [
        "import tensorflow as tf\n",
        "from tensorflow import keras\n",
        "import matplotlib.pyplot as plt\n",
        "import numpy as np\n",
        "\n"
      ]
    },
    {
      "cell_type": "code",
      "execution_count": null,
      "metadata": {
        "id": "5rZR3AzDWqb3"
      },
      "outputs": [],
      "source": [
        "(x_train,y_train),(x_test,y_test) = keras.datasets.cifar10.load_data()"
      ]
    },
    {
      "cell_type": "code",
      "execution_count": null,
      "metadata": {
        "id": "6oCyICheX0rm"
      },
      "outputs": [],
      "source": [
        "x_train.shape"
      ]
    },
    {
      "cell_type": "code",
      "execution_count": null,
      "metadata": {
        "id": "-LmZ8ztKX7jZ"
      },
      "outputs": [],
      "source": [
        "y_train.shape"
      ]
    },
    {
      "cell_type": "code",
      "execution_count": null,
      "metadata": {
        "id": "GK9jxmz7X7fp"
      },
      "outputs": [],
      "source": [
        "x_test.shape"
      ]
    },
    {
      "cell_type": "code",
      "execution_count": null,
      "metadata": {
        "id": "wspvdUUYX2N8"
      },
      "outputs": [],
      "source": [
        "y_test.shape"
      ]
    },
    {
      "cell_type": "code",
      "execution_count": null,
      "metadata": {
        "id": "nkjT1eEaX6yE"
      },
      "outputs": [],
      "source": [
        "def simple_plot(index):\n",
        "  plt.figure(figsize=(10,1))\n",
        "  plt.imshow(x_train[index])\n",
        "  plt.show()\n",
        "\n",
        "simple_plot(10)"
      ]
    },
    {
      "cell_type": "code",
      "execution_count": null,
      "metadata": {
        "id": "_sFIxE5lY5L1"
      },
      "outputs": [],
      "source": [
        "def simple_plot(index):\n",
        "  plt.figure(figsize=(10,1))\n",
        "  plt.imshow(x_train[index])\n",
        "  plt.xlabel(f\"Image Label: {y_train[index][0]}\") # Display the label\n",
        "  plt.show()\n",
        "\n",
        "\n",
        "simple_plot(10)\n"
      ]
    },
    {
      "cell_type": "code",
      "execution_count": null,
      "metadata": {
        "id": "FdXPqDPlYqI_"
      },
      "outputs": [],
      "source": [
        "def plot_label(index):\n",
        "    plt.figure(figsize=(10,1))\n",
        "    plt.title(f\"Label: {y_train[index][0]}\")  # Access the label value and show it as title.\n",
        "    # plt.axis('off') # Hide axes for cleaner view.\n",
        "    plt.imshow(x_train[index]) # display the image\n",
        "    plt.show() # show the plot\n",
        "\n",
        "plot_label(1)\n"
      ]
    },
    {
      "cell_type": "markdown",
      "metadata": {
        "id": "stxpwY-eZUgV"
      },
      "source": [
        "# Scaling"
      ]
    },
    {
      "cell_type": "code",
      "execution_count": null,
      "metadata": {
        "id": "MG2fYj8zY02R"
      },
      "outputs": [],
      "source": [
        "x_train_s = x_train/255\n",
        "x_test_s = x_test/255"
      ]
    },
    {
      "cell_type": "code",
      "execution_count": null,
      "metadata": {
        "id": "lMuGXVTxZc1Q"
      },
      "outputs": [],
      "source": [
        "x_test_s.shape"
      ]
    },
    {
      "cell_type": "code",
      "execution_count": null,
      "metadata": {
        "id": "pr7ItMgcZhnK"
      },
      "outputs": [],
      "source": [
        "x_test_s.shape"
      ]
    },
    {
      "cell_type": "code",
      "execution_count": null,
      "metadata": {
        "id": "-VTqUfdRZjPz"
      },
      "outputs": [],
      "source": [
        "y_train_categorical = keras.utils.to_categorical(y_train , num_classes=10)\n",
        "y_test_categorical = keras.utils.to_categorical(y_test , num_classes=10)"
      ]
    },
    {
      "cell_type": "code",
      "execution_count": null,
      "metadata": {
        "id": "q1B4-42iZv0p"
      },
      "outputs": [],
      "source": [
        "y_train[:5]"
      ]
    },
    {
      "cell_type": "code",
      "execution_count": null,
      "metadata": {
        "id": "YPmCzD6RZpxU"
      },
      "outputs": [],
      "source": [
        "y_train_categorical[:5]"
      ]
    },
    {
      "cell_type": "code",
      "execution_count": null,
      "metadata": {
        "id": "17RvKwGizpZ-"
      },
      "outputs": [],
      "source": [
        "model = keras.Sequential([\n",
        "    keras.layers.Flatten(input_shape=(32, 32, 3)),\n",
        "\n",
        "    keras.layers.Dense(10, activation='softmax') # Changed to 10 units and softmax for multi-class\n",
        "])\n",
        "model.compile(\n",
        "    optimizer='sgd',\n",
        "    loss='sparse_categorical_crossentropy', # Changed to categorical_crossentropy\n",
        "    metrics=['accuracy'] # Corrected 'merticx' to 'metrics'\n",
        ")\n",
        "model.fit(x_train_s, y_train, epochs=5) # Use y_train instead of y_train_categorical\n"
      ]
    },
    {
      "cell_type": "code",
      "execution_count": null,
      "metadata": {
        "colab": {
          "base_uri": "https://localhost:8080/"
        },
        "id": "qSbPu7FRZu21",
        "outputId": "bd533733-58fc-480f-90e6-1702de658a45"
      },
      "outputs": [
        {
          "name": "stdout",
          "output_type": "stream",
          "text": [
            "Epoch 1/5\n",
            "\u001b[1m1563/1563\u001b[0m \u001b[32m━━━━━━━━━━━━━━━━━━━━\u001b[0m\u001b[37m\u001b[0m \u001b[1m7s\u001b[0m 4ms/step - accuracy: 0.2882 - loss: 1.9651\n",
            "Epoch 2/5\n",
            "\u001b[1m1563/1563\u001b[0m \u001b[32m━━━━━━━━━━━━━━━━━━━━\u001b[0m\u001b[37m\u001b[0m \u001b[1m7s\u001b[0m 2ms/step - accuracy: 0.3923 - loss: 1.7132\n",
            "Epoch 3/5\n",
            "\u001b[1m1563/1563\u001b[0m \u001b[32m━━━━━━━━━━━━━━━━━━━━\u001b[0m\u001b[37m\u001b[0m \u001b[1m6s\u001b[0m 3ms/step - accuracy: 0.4292 - loss: 1.6220\n",
            "Epoch 4/5\n",
            "\u001b[1m1563/1563\u001b[0m \u001b[32m━━━━━━━━━━━━━━━━━━━━\u001b[0m\u001b[37m\u001b[0m \u001b[1m4s\u001b[0m 2ms/step - accuracy: 0.4491 - loss: 1.5660\n",
            "Epoch 5/5\n",
            "\u001b[1m1563/1563\u001b[0m \u001b[32m━━━━━━━━━━━━━━━━━━━━\u001b[0m\u001b[37m\u001b[0m \u001b[1m6s\u001b[0m 2ms/step - accuracy: 0.4623 - loss: 1.5305\n"
          ]
        },
        {
          "data": {
            "text/plain": [
              "<keras.src.callbacks.history.History at 0x7d8f5bf42150>"
            ]
          },
          "execution_count": 17,
          "metadata": {},
          "output_type": "execute_result"
        }
      ],
      "source": [
        "model = keras.Sequential([\n",
        "    keras.layers.Flatten(input_shape=(32, 32, 3)),\n",
        "    keras.layers.Dense(300, activation='relu'),\n",
        "    keras.layers.Dense(10, activation='softmax') # Changed to 10 units and softmax for multi-class\n",
        "])\n",
        "model.compile(\n",
        "    optimizer='sgd',\n",
        "    loss='sparse_categorical_crossentropy', # Changed to categorical_crossentropy\n",
        "    metrics=['accuracy'] # Corrected 'merticx' to 'metrics'\n",
        ")\n",
        "model.fit(x_train_s, y_train, epochs=5) # Use y_train instead of y_train_categorical\n"
      ]
    },
    {
      "cell_type": "code",
      "execution_count": null,
      "metadata": {
        "colab": {
          "base_uri": "https://localhost:8080/"
        },
        "id": "d040Wmz3cgfv",
        "outputId": "351f477a-15e7-45fa-b708-737908721cd1"
      },
      "outputs": [
        {
          "name": "stdout",
          "output_type": "stream",
          "text": [
            "Epoch 1/5\n",
            "\u001b[1m1563/1563\u001b[0m \u001b[32m━━━━━━━━━━━━━━━━━━━━\u001b[0m\u001b[37m\u001b[0m \u001b[1m11s\u001b[0m 6ms/step - accuracy: 0.3105 - loss: 1.9261\n",
            "Epoch 2/5\n",
            "\u001b[1m1563/1563\u001b[0m \u001b[32m━━━━━━━━━━━━━━━━━━━━\u001b[0m\u001b[37m\u001b[0m \u001b[1m19s\u001b[0m 6ms/step - accuracy: 0.4196 - loss: 1.6336\n",
            "Epoch 3/5\n",
            "\u001b[1m1563/1563\u001b[0m \u001b[32m━━━━━━━━━━━━━━━━━━━━\u001b[0m\u001b[37m\u001b[0m \u001b[1m10s\u001b[0m 6ms/step - accuracy: 0.4555 - loss: 1.5370\n",
            "Epoch 4/5\n",
            "\u001b[1m1563/1563\u001b[0m \u001b[32m━━━━━━━━━━━━━━━━━━━━\u001b[0m\u001b[37m\u001b[0m \u001b[1m10s\u001b[0m 6ms/step - accuracy: 0.4820 - loss: 1.4655\n",
            "Epoch 5/5\n",
            "\u001b[1m1563/1563\u001b[0m \u001b[32m━━━━━━━━━━━━━━━━━━━━\u001b[0m\u001b[37m\u001b[0m \u001b[1m10s\u001b[0m 6ms/step - accuracy: 0.5048 - loss: 1.4057\n"
          ]
        },
        {
          "data": {
            "text/plain": [
              "<keras.src.callbacks.history.History at 0x7d8ef4ef28d0>"
            ]
          },
          "execution_count": 18,
          "metadata": {},
          "output_type": "execute_result"
        }
      ],
      "source": [
        "model = keras.Sequential([\n",
        "    keras.layers.Flatten(input_shape=(32, 32, 3)),\n",
        "    keras.layers.Dense(3000, activation='relu'),\n",
        "    # keras.layers.Dropout(0.2),\n",
        "     keras.layers.Dense(3000, activation='relu'),\n",
        "     keras.layers.Dense(3000, activation='relu'),\n",
        "    #  keras.layers.Dropout(0.2),\n",
        "    keras.layers.Dense(10, activation='softmax') # Changed to 10 units and softmax for multi-class\n",
        "])\n",
        "\n",
        "model.compile(\n",
        "    optimizer='sgd',\n",
        "    loss='categorical_crossentropy', # Changed to categorical_crossentropy\n",
        "    metrics=['accuracy'] # Corrected 'merticx' to 'metrics'\n",
        ")\n",
        "\n",
        "model.fit(x_train_s, y_train_categorical, epochs=5)\n"
      ]
    },
    {
      "cell_type": "code",
      "execution_count": null,
      "metadata": {
        "colab": {
          "base_uri": "https://localhost:8080/"
        },
        "id": "XB_P6sm20Atn",
        "outputId": "65be23cb-0abb-4218-f08f-2f120430cbe7"
      },
      "outputs": [
        {
          "name": "stdout",
          "output_type": "stream",
          "text": [
            "Epoch 1/5\n",
            "\u001b[1m1563/1563\u001b[0m \u001b[32m━━━━━━━━━━━━━━━━━━━━\u001b[0m\u001b[37m\u001b[0m \u001b[1m15s\u001b[0m 8ms/step - accuracy: 0.2554 - loss: 2.2286\n",
            "Epoch 2/5\n",
            "\u001b[1m1563/1563\u001b[0m \u001b[32m━━━━━━━━━━━━━━━━━━━━\u001b[0m\u001b[37m\u001b[0m \u001b[1m19s\u001b[0m 8ms/step - accuracy: 0.3685 - loss: 1.7349\n",
            "Epoch 3/5\n",
            "\u001b[1m1563/1563\u001b[0m \u001b[32m━━━━━━━━━━━━━━━━━━━━\u001b[0m\u001b[37m\u001b[0m \u001b[1m12s\u001b[0m 8ms/step - accuracy: 0.4073 - loss: 1.6361\n",
            "Epoch 4/5\n",
            "\u001b[1m1563/1563\u001b[0m \u001b[32m━━━━━━━━━━━━━━━━━━━━\u001b[0m\u001b[37m\u001b[0m \u001b[1m21s\u001b[0m 8ms/step - accuracy: 0.4258 - loss: 1.5827\n",
            "Epoch 5/5\n",
            "\u001b[1m1563/1563\u001b[0m \u001b[32m━━━━━━━━━━━━━━━━━━━━\u001b[0m\u001b[37m\u001b[0m \u001b[1m20s\u001b[0m 8ms/step - accuracy: 0.4410 - loss: 1.5427\n"
          ]
        },
        {
          "data": {
            "text/plain": [
              "<keras.src.callbacks.history.History at 0x7d8ef4f1fb50>"
            ]
          },
          "execution_count": 19,
          "metadata": {},
          "output_type": "execute_result"
        }
      ],
      "source": [
        "model = keras.Sequential([\n",
        "    keras.layers.Flatten(input_shape=(32, 32, 3)),\n",
        "    keras.layers.Dense(3000, activation='relu'),\n",
        "    # keras.layers.Dropout(0.2),\n",
        "     keras.layers.Dense(3000, activation='relu'),\n",
        "     keras.layers.Dense(3000, activation='relu'),\n",
        "    #  keras.layers.Dropout(0.2),\n",
        "    keras.layers.Dense(10, activation='softmax') # Changed to 10 units and softmax for multi-class\n",
        "])\n",
        "\n",
        "model.compile(\n",
        "    optimizer='adam',\n",
        "    loss='categorical_crossentropy', # Changed to categorical_crossentropy\n",
        "    metrics=['accuracy'] # Corrected 'merticx' to 'metrics'\n",
        ")\n",
        "\n",
        "model.fit(x_train_s, y_train_categorical, epochs=5)"
      ]
    },
    {
      "cell_type": "code",
      "execution_count": null,
      "metadata": {
        "colab": {
          "background_save": true,
          "base_uri": "https://localhost:8080/"
        },
        "id": "OXdExdAjz3KO",
        "outputId": "4b3f38f0-9182-46fe-ea17-3cc811f49ce3"
      },
      "outputs": [
        {
          "name": "stdout",
          "output_type": "stream",
          "text": [
            "Epoch 1/20\n",
            "\u001b[1m1563/1563\u001b[0m \u001b[32m━━━━━━━━━━━━━━━━━━━━\u001b[0m\u001b[37m\u001b[0m \u001b[1m12s\u001b[0m 7ms/step - accuracy: 0.2809 - loss: 1.9785\n",
            "Epoch 2/20\n",
            "\u001b[1m1563/1563\u001b[0m \u001b[32m━━━━━━━━━━━━━━━━━━━━\u001b[0m\u001b[37m\u001b[0m \u001b[1m18s\u001b[0m 6ms/step - accuracy: 0.4013 - loss: 1.6865\n",
            "Epoch 3/20\n",
            "\u001b[1m1563/1563\u001b[0m \u001b[32m━━━━━━━━━━━━━━━━━━━━\u001b[0m\u001b[37m\u001b[0m \u001b[1m9s\u001b[0m 6ms/step - accuracy: 0.4360 - loss: 1.5948\n",
            "Epoch 4/20\n",
            "\u001b[1m1563/1563\u001b[0m \u001b[32m━━━━━━━━━━━━━━━━━━━━\u001b[0m\u001b[37m\u001b[0m \u001b[1m10s\u001b[0m 6ms/step - accuracy: 0.4523 - loss: 1.5399\n",
            "Epoch 5/20\n",
            "\u001b[1m1563/1563\u001b[0m \u001b[32m━━━━━━━━━━━━━━━━━━━━\u001b[0m\u001b[37m\u001b[0m \u001b[1m9s\u001b[0m 6ms/step - accuracy: 0.4731 - loss: 1.4884\n",
            "Epoch 6/20\n",
            "\u001b[1m1563/1563\u001b[0m \u001b[32m━━━━━━━━━━━━━━━━━━━━\u001b[0m\u001b[37m\u001b[0m \u001b[1m9s\u001b[0m 6ms/step - accuracy: 0.4850 - loss: 1.4472\n",
            "Epoch 7/20\n",
            "\u001b[1m1563/1563\u001b[0m \u001b[32m━━━━━━━━━━━━━━━━━━━━\u001b[0m\u001b[37m\u001b[0m \u001b[1m9s\u001b[0m 6ms/step - accuracy: 0.4981 - loss: 1.4081\n",
            "Epoch 8/20\n",
            "\u001b[1m1563/1563\u001b[0m \u001b[32m━━━━━━━━━━━━━━━━━━━━\u001b[0m\u001b[37m\u001b[0m \u001b[1m9s\u001b[0m 6ms/step - accuracy: 0.5133 - loss: 1.3812\n",
            "Epoch 9/20\n",
            "\u001b[1m1563/1563\u001b[0m \u001b[32m━━━━━━━━━━━━━━━━━━━━\u001b[0m\u001b[37m\u001b[0m \u001b[1m9s\u001b[0m 6ms/step - accuracy: 0.5205 - loss: 1.3505\n",
            "Epoch 10/20\n",
            "\u001b[1m1563/1563\u001b[0m \u001b[32m━━━━━━━━━━━━━━━━━━━━\u001b[0m\u001b[37m\u001b[0m \u001b[1m10s\u001b[0m 6ms/step - accuracy: 0.5334 - loss: 1.3170\n",
            "Epoch 11/20\n",
            "\u001b[1m1563/1563\u001b[0m \u001b[32m━━━━━━━━━━━━━━━━━━━━\u001b[0m\u001b[37m\u001b[0m \u001b[1m10s\u001b[0m 6ms/step - accuracy: 0.5399 - loss: 1.2960\n",
            "Epoch 12/20\n",
            "\u001b[1m1563/1563\u001b[0m \u001b[32m━━━━━━━━━━━━━━━━━━━━\u001b[0m\u001b[37m\u001b[0m \u001b[1m9s\u001b[0m 6ms/step - accuracy: 0.5483 - loss: 1.2646\n",
            "Epoch 13/20\n",
            "\u001b[1m1563/1563\u001b[0m \u001b[32m━━━━━━━━━━━━━━━━━━━━\u001b[0m\u001b[37m\u001b[0m \u001b[1m10s\u001b[0m 6ms/step - accuracy: 0.5621 - loss: 1.2455\n",
            "Epoch 14/20\n",
            "\u001b[1m1563/1563\u001b[0m \u001b[32m━━━━━━━━━━━━━━━━━━━━\u001b[0m\u001b[37m\u001b[0m \u001b[1m9s\u001b[0m 6ms/step - accuracy: 0.5698 - loss: 1.2220\n",
            "Epoch 15/20\n",
            "\u001b[1m1563/1563\u001b[0m \u001b[32m━━━━━━━━━━━━━━━━━━━━\u001b[0m\u001b[37m\u001b[0m \u001b[1m10s\u001b[0m 6ms/step - accuracy: 0.5740 - loss: 1.2045\n",
            "Epoch 16/20\n",
            "\u001b[1m1563/1563\u001b[0m \u001b[32m━━━━━━━━━━━━━━━━━━━━\u001b[0m\u001b[37m\u001b[0m \u001b[1m10s\u001b[0m 6ms/step - accuracy: 0.5822 - loss: 1.1777\n",
            "Epoch 17/20\n",
            "\u001b[1m1563/1563\u001b[0m \u001b[32m━━━━━━━━━━━━━━━━━━━━\u001b[0m\u001b[37m\u001b[0m \u001b[1m10s\u001b[0m 6ms/step - accuracy: 0.5937 - loss: 1.1437\n",
            "Epoch 18/20\n",
            "\u001b[1m1563/1563\u001b[0m \u001b[32m━━━━━━━━━━━━━━━━━━━━\u001b[0m\u001b[37m\u001b[0m \u001b[1m9s\u001b[0m 6ms/step - accuracy: 0.6018 - loss: 1.1240\n",
            "Epoch 19/20\n",
            "\u001b[1m1563/1563\u001b[0m \u001b[32m━━━━━━━━━━━━━━━━━━━━\u001b[0m\u001b[37m\u001b[0m \u001b[1m10s\u001b[0m 6ms/step - accuracy: 0.6058 - loss: 1.0999\n",
            "Epoch 20/20\n",
            "\u001b[1m1563/1563\u001b[0m \u001b[32m━━━━━━━━━━━━━━━━━━━━\u001b[0m\u001b[37m\u001b[0m \u001b[1m10s\u001b[0m 6ms/step - accuracy: 0.6146 - loss: 1.0872\n"
          ]
        },
        {
          "data": {
            "text/plain": [
              "<keras.src.callbacks.history.History at 0x7d8ee39ef950>"
            ]
          },
          "execution_count": 20,
          "metadata": {},
          "output_type": "execute_result"
        }
      ],
      "source": [
        "model = keras.Sequential([\n",
        "    keras.layers.Flatten(input_shape=(32, 32, 3)),\n",
        "    keras.layers.Dense(3000, activation='relu'),\n",
        "    keras.layers.Dropout(0.2),\n",
        "     keras.layers.Dense(3000, activation='relu'),\n",
        "     keras.layers.Dense(3000, activation='relu'),\n",
        "     keras.layers.Dropout(0.2),\n",
        "    keras.layers.Dense(10, activation='softmax') # Changed to 10 units and softmax for multi-class\n",
        "])\n",
        "\n",
        "model.compile(\n",
        "    optimizer='sgd',\n",
        "    loss='categorical_crossentropy', # Changed to categorical_crossentropy\n",
        "    metrics=['accuracy'] # Corrected 'merticx' to 'metrics'\n",
        ")\n",
        "\n",
        "model.fit(x_train_s, y_train_categorical, epochs=20)\n"
      ]
    },
    {
      "cell_type": "code",
      "execution_count": null,
      "metadata": {
        "colab": {
          "background_save": true
        },
        "id": "XDg-gb30Hgzd"
      },
      "outputs": [],
      "source": []
    },
    {
      "cell_type": "markdown",
      "metadata": {
        "id": "t13xiAw9t1st"
      },
      "source": [
        "#Convolutation Neural network"
      ]
    },
    {
      "cell_type": "code",
      "execution_count": null,
      "metadata": {
        "id": "vCMlLb7IUxXw"
      },
      "outputs": [],
      "source": [
        "from tensorflow.keras import layers\n",
        "\n",
        "model1 = keras.Sequential([\n",
        "                        #  Convolutation layer\n",
        "    layers.Conv2D(filters=32,activation='relu',kernel_size =(3,3),input_shape =(32,32,3))  ,\n",
        "    layers.MaxPooling2D(2,2),\n",
        "                          # Dense Layer\n",
        "    keras.layers.Flatten(input_shape=(32, 32, 3)),\n",
        "    keras.layers.Dense(3000, activation='relu'),\n",
        "    keras.layers.Dropout(0.2),\n",
        "    keras.layers.Dense(3000, activation='relu'),\n",
        "    keras.layers.Dense(3000, activation='relu'),\n",
        "    keras.layers.Dropout(0.2),\n",
        "    keras.layers.Dense(10, activation='softmax') # Changed to 10 units and softmax for multi-class\n",
        "])\n",
        "model1.compile(\n",
        "    optimizer='sgd',\n",
        "    loss='sparse_categorical_crossentropy', # Changed to categorical_crossentropy\n",
        "    metrics=['accuracy'] # Corrected 'merticx' to 'metrics'\n",
        ")\n",
        "model1.fit(x_train_s, y_train, epochs=5)\n"
      ]
    },
    {
      "cell_type": "markdown",
      "metadata": {
        "id": "sUZvA1_DwGsn"
      },
      "source": [
        "# Multiple Convolutional layers Nural Network"
      ]
    },
    {
      "cell_type": "code",
      "execution_count": null,
      "metadata": {
        "id": "xrKBzp0lvyU6",
        "colab": {
          "base_uri": "https://localhost:8080/"
        },
        "outputId": "47714c57-e99c-42e1-924b-acbbe436499e"
      },
      "outputs": [
        {
          "output_type": "stream",
          "name": "stdout",
          "text": [
            "Epoch 1/5\n",
            "\u001b[1m1563/1563\u001b[0m \u001b[32m━━━━━━━━━━━━━━━━━━━━\u001b[0m\u001b[37m\u001b[0m \u001b[1m15s\u001b[0m 8ms/step - accuracy: 0.2077 - loss: 2.1472\n",
            "Epoch 2/5\n",
            "\u001b[1m1563/1563\u001b[0m \u001b[32m━━━━━━━━━━━━━━━━━━━━\u001b[0m\u001b[37m\u001b[0m \u001b[1m11s\u001b[0m 7ms/step - accuracy: 0.4219 - loss: 1.6002\n",
            "Epoch 3/5\n",
            "\u001b[1m1563/1563\u001b[0m \u001b[32m━━━━━━━━━━━━━━━━━━━━\u001b[0m\u001b[37m\u001b[0m \u001b[1m11s\u001b[0m 7ms/step - accuracy: 0.4937 - loss: 1.4015\n",
            "Epoch 4/5\n",
            "\u001b[1m1563/1563\u001b[0m \u001b[32m━━━━━━━━━━━━━━━━━━━━\u001b[0m\u001b[37m\u001b[0m \u001b[1m11s\u001b[0m 7ms/step - accuracy: 0.5459 - loss: 1.2722\n",
            "Epoch 5/5\n",
            "\u001b[1m1024/1563\u001b[0m \u001b[32m━━━━━━━━━━━━━\u001b[0m\u001b[37m━━━━━━━\u001b[0m \u001b[1m3s\u001b[0m 7ms/step - accuracy: 0.5906 - loss: 1.1524"
          ]
        }
      ],
      "source": [
        "\n",
        "\n",
        "model2 = keras.Sequential([\n",
        "                        #  Convolutation layer\n",
        "    layers.Conv2D(filters=32,activation='relu',kernel_size =(3,3),input_shape =(32,32,3))  ,\n",
        "    layers.MaxPooling2D(2,2),\n",
        "    layers.Conv2D(filters=62,activation='relu',kernel_size =(3,3),input_shape =(32,32,3))  ,\n",
        "    layers.MaxPooling2D(2,2),\n",
        "\n",
        "                          # Dense Layer\n",
        "    keras.layers.Flatten(input_shape=(32, 32, 3)),\n",
        "    keras.layers.Dense(3000, activation='relu'),\n",
        "    keras.layers.Dropout(0.2),\n",
        "    keras.layers.Dense(3000, activation='relu'),\n",
        "    keras.layers.Dense(3000, activation='relu'),\n",
        "    keras.layers.Dropout(0.2),\n",
        "    keras.layers.Dense(10, activation='softmax') # Changed to 10 units and softmax for multi-class\n",
        "])\n",
        "model2.compile(\n",
        "    optimizer='sgd',\n",
        "    loss='sparse_categorical_crossentropy', # Changed to categorical_crossentropy\n",
        "    metrics=['accuracy'] # Corrected 'merticx' to 'metrics'\n",
        ")\n",
        "model2.fit(x_train_s, y_train, epochs=5)\n"
      ]
    },
    {
      "cell_type": "code",
      "execution_count": null,
      "metadata": {
        "id": "Gj9EmYclwPcO"
      },
      "outputs": [],
      "source": [
        "\n",
        "\n",
        "model3 = keras.Sequential([\n",
        "                        #  Convolutation layer\n",
        "    layers.Conv2D(filters=32,activation='relu',kernel_size =(3,3),input_shape =(32,32,3))  ,\n",
        "    layers.MaxPooling2D(2,2),\n",
        "    layers.Conv2D(filters=62,activation='relu',kernel_size =(3,3),input_shape =(32,32,3))  ,\n",
        "    layers.MaxPooling2D(2,2),\n",
        "     layers.Conv2D(filters=102,activation='relu',kernel_size =(3,3),input_shape =(32,32,3))  ,\n",
        "    layers.MaxPooling2D(2,2),\n",
        "\n",
        "                          # Dense Layer\n",
        "    keras.layers.Flatten(input_shape=(32, 32, 3)),\n",
        "    keras.layers.Dense(3000, activation='relu'),\n",
        "    keras.layers.Dropout(0.2),\n",
        "    keras.layers.Dense(3000, activation='relu'),\n",
        "    keras.layers.Dense(3000, activation='relu'),\n",
        "    keras.layers.Dropout(0.2),\n",
        "    keras.layers.Dense(10, activation='softmax') # Changed to 10 units and softmax for multi-class\n",
        "])\n",
        "model3.compile(\n",
        "    optimizer='sgd',\n",
        "    loss='sparse_categorical_crossentropy', # Changed to categorical_crossentropy\n",
        "    metrics=['accuracy'] # Corrected 'merticx' to 'metrics'\n",
        ")\n",
        "model3.fit(x_train_s, y_train, epochs=5)\n"
      ]
    },
    {
      "cell_type": "code",
      "execution_count": null,
      "metadata": {
        "id": "GzJFXcTyzBIz"
      },
      "outputs": [],
      "source": [
        "cnn = keras.Sequential([\n",
        "                        #  Convolutation layer\n",
        "    layers.Conv2D(filters=32,activation='relu',kernel_size =(3,3),input_shape =(32,32,3))  ,\n",
        "    layers.MaxPooling2D(2,2),\n",
        "\n",
        "    layers.Conv2D(filters=62,activation='relu',kernel_size =(3,3),input_shape =(32,32,3))  ,\n",
        "    layers.MaxPooling2D(2,2),\n",
        "\n",
        "     layers.Conv2D(filters=102,activation='relu',kernel_size =(3,3),input_shape =(32,32,3))  ,\n",
        "    layers.MaxPooling2D(2,2),\n",
        "\n",
        "                          # Dense Layer\n",
        "    keras.layers.Flatten(input_shape=(32, 32, 3)),\n",
        "    keras.layers.Dense(3000, activation='relu'),\n",
        "    keras.layers.Dropout(0.2),\n",
        "    keras.layers.Dense(3000, activation='relu'),\n",
        "    keras.layers.Dense(3000, activation='relu'),\n",
        "    keras.layers.Dropout(0.2),\n",
        "    keras.layers.Dense(10, activation='softmax') # Changed to 10 units and softmax for multi-class\n",
        "])\n",
        "cnn.compile(\n",
        "    optimizer='adam',\n",
        "    loss='sparse_categorical_crossentropy', # Changed to categorical_crossentropy\n",
        "    metrics=['accuracy'] # Corrected 'merticx' to 'metrics'\n",
        ")\n",
        "cnn.fit(x_train_s, y_train, epochs=50)"
      ]
    },
    {
      "cell_type": "code",
      "execution_count": null,
      "metadata": {
        "id": "yezpnvBO-2ee"
      },
      "outputs": [],
      "source": [
        "# prompt: evalution\n",
        "\n",
        "# Evaluate the model on the test data\n",
        "loss, accuracy = cnn.evaluate(x_test_s, y_test) # Use x_test_s instead of x_test\n",
        "print(f\"Loss: {loss}\")\n",
        "print(f\"Accuracy: {accuracy}\")\n"
      ]
    },
    {
      "cell_type": "code",
      "execution_count": null,
      "metadata": {
        "id": "Wz-TcM_hDn7t"
      },
      "outputs": [],
      "source": [
        "y_pred = cnn.predict(x_test_s)\n",
        "y_class  = [np.argmax(element) for element in y_pred]\n",
        "\n",
        "# Compare predictions with actual values for the first 5 images\n",
        "for i in range(10):\n",
        "    print(f\"Image {i+1}:\")\n",
        "    print(f\"  Predicted class: {y_class[i]}\")\n",
        "    print(f\"  Actual class: {y_test[i][0]}\")\n",
        "\n",
        "    # Optional: Display the image and its label\n",
        "    plt.figure(figsize=(2,2))\n",
        "    plt.imshow(x_test[i])\n",
        "    plt.title(f\"Predicted: {y_class[i]}, Actual: {y_test[i][0]}\")\n",
        "    # plt.show()\n"
      ]
    },
    {
      "cell_type": "code",
      "execution_count": null,
      "metadata": {
        "id": "rgnCIPSDEWmX"
      },
      "outputs": [],
      "source": [
        "# prompt: from sklearn.metrics import confusion_matrix,classification_report\n",
        "# cm = confusion_matrix(y_test,y_class)\n",
        "\n",
        "from sklearn.metrics import confusion_matrix, classification_report\n",
        "\n",
        "cm = confusion_matrix(y_test, y_class)\n",
        "# print(cm)\n",
        "\n",
        "# Assuming you have y_test and y_class defined\n",
        "print(classification_report(y_test, y_class))\n"
      ]
    },
    {
      "cell_type": "code",
      "execution_count": null,
      "metadata": {
        "id": "99Nt2enCM27Y"
      },
      "outputs": [],
      "source": []
    }
  ],
  "metadata": {
    "accelerator": "GPU",
    "colab": {
      "gpuType": "T4",
      "provenance": [],
      "authorship_tag": "ABX9TyOi7tQ6VmxUQfMfsqmIb7Fi",
      "include_colab_link": true
    },
    "kernelspec": {
      "display_name": "Python 3",
      "name": "python3"
    },
    "language_info": {
      "name": "python"
    }
  },
  "nbformat": 4,
  "nbformat_minor": 0
}