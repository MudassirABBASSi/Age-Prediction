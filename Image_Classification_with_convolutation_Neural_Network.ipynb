{
  "nbformat": 4,
  "nbformat_minor": 0,
  "metadata": {
    "colab": {
      "provenance": [],
      "gpuType": "T4",
      "authorship_tag": "ABX9TyOi7tQ6VmxUQfMfsqmIb7Fi",
      "include_colab_link": true
    },
    "kernelspec": {
      "name": "python3",
      "display_name": "Python 3"
    },
    "language_info": {
      "name": "python"
    },
    "accelerator": "GPU"
  },
  "cells": [
    {
      "cell_type": "markdown",
      "metadata": {
        "id": "view-in-github",
        "colab_type": "text"
      },
      "source": [
        "<a href=\"https://colab.research.google.com/github/MudassirABBASSi/Age-Prediction/blob/main/Image_Classification_with_convolutation_Neural_Network.ipynb\" target=\"_parent\"><img src=\"https://colab.research.google.com/assets/colab-badge.svg\" alt=\"Open In Colab\"/></a>"
      ]
    },
    {
      "cell_type": "code",
      "execution_count": null,
      "metadata": {
        "id": "LFkmhtdqQDv7"
      },
      "outputs": [],
      "source": [
        "import tensorflow as tf\n",
        "from tensorflow import keras\n",
        "import matplotlib.pyplot as plt\n",
        "import numpy as np\n",
        "\n"
      ]
    },
    {
      "cell_type": "code",
      "source": [
        "(x_train,y_train),(x_test,y_test) = keras.datasets.cifar10.load_data()"
      ],
      "metadata": {
        "id": "5rZR3AzDWqb3"
      },
      "execution_count": null,
      "outputs": []
    },
    {
      "cell_type": "code",
      "source": [
        "x_train.shape"
      ],
      "metadata": {
        "id": "6oCyICheX0rm"
      },
      "execution_count": null,
      "outputs": []
    },
    {
      "cell_type": "code",
      "source": [
        "y_train.shape"
      ],
      "metadata": {
        "id": "-LmZ8ztKX7jZ"
      },
      "execution_count": null,
      "outputs": []
    },
    {
      "cell_type": "code",
      "source": [
        "x_test.shape"
      ],
      "metadata": {
        "id": "GK9jxmz7X7fp"
      },
      "execution_count": null,
      "outputs": []
    },
    {
      "cell_type": "code",
      "source": [
        "y_test.shape"
      ],
      "metadata": {
        "id": "wspvdUUYX2N8"
      },
      "execution_count": null,
      "outputs": []
    },
    {
      "cell_type": "code",
      "source": [
        "def simple_plot(index):\n",
        "  plt.figure(figsize=(10,1))\n",
        "  plt.imshow(x_train[index])\n",
        "  plt.show()\n",
        "\n",
        "simple_plot(10)"
      ],
      "metadata": {
        "id": "nkjT1eEaX6yE"
      },
      "execution_count": null,
      "outputs": []
    },
    {
      "cell_type": "code",
      "source": [
        "def simple_plot(index):\n",
        "  plt.figure(figsize=(10,1))\n",
        "  plt.imshow(x_train[index])\n",
        "  plt.xlabel(f\"Image Label: {y_train[index][0]}\") # Display the label\n",
        "  plt.show()\n",
        "\n",
        "\n",
        "simple_plot(10)\n"
      ],
      "metadata": {
        "id": "_sFIxE5lY5L1"
      },
      "execution_count": null,
      "outputs": []
    },
    {
      "cell_type": "code",
      "source": [
        "def plot_label(index):\n",
        "    plt.figure(figsize=(10,1))\n",
        "    plt.title(f\"Label: {y_train[index][0]}\")  # Access the label value and show it as title.\n",
        "    # plt.axis('off') # Hide axes for cleaner view.\n",
        "    plt.imshow(x_train[index]) # display the image\n",
        "    plt.show() # show the plot\n",
        "\n",
        "plot_label(1)\n"
      ],
      "metadata": {
        "id": "FdXPqDPlYqI_"
      },
      "execution_count": null,
      "outputs": []
    },
    {
      "cell_type": "markdown",
      "source": [
        "# Scaling"
      ],
      "metadata": {
        "id": "stxpwY-eZUgV"
      }
    },
    {
      "cell_type": "code",
      "source": [
        "x_train_s = x_train/255\n",
        "x_test_s = x_test/255"
      ],
      "metadata": {
        "id": "MG2fYj8zY02R"
      },
      "execution_count": null,
      "outputs": []
    },
    {
      "cell_type": "code",
      "source": [
        "x_test_s.shape"
      ],
      "metadata": {
        "id": "lMuGXVTxZc1Q"
      },
      "execution_count": null,
      "outputs": []
    },
    {
      "cell_type": "code",
      "source": [
        "x_test_s.shape"
      ],
      "metadata": {
        "id": "pr7ItMgcZhnK"
      },
      "execution_count": null,
      "outputs": []
    },
    {
      "cell_type": "code",
      "source": [
        "y_train_categorical = keras.utils.to_categorical(y_train , num_classes=10)\n",
        "y_test_categorical = keras.utils.to_categorical(y_test , num_classes=10)"
      ],
      "metadata": {
        "id": "-VTqUfdRZjPz"
      },
      "execution_count": null,
      "outputs": []
    },
    {
      "cell_type": "code",
      "source": [
        "y_train[:5]"
      ],
      "metadata": {
        "id": "q1B4-42iZv0p"
      },
      "execution_count": null,
      "outputs": []
    },
    {
      "cell_type": "code",
      "source": [
        "y_train_categorical[:5]"
      ],
      "metadata": {
        "id": "YPmCzD6RZpxU"
      },
      "execution_count": null,
      "outputs": []
    },
    {
      "cell_type": "code",
      "source": [
        "model = keras.Sequential([\n",
        "    keras.layers.Flatten(input_shape=(32, 32, 3)),\n",
        "\n",
        "    keras.layers.Dense(10, activation='softmax') # Changed to 10 units and softmax for multi-class\n",
        "])\n",
        "model.compile(\n",
        "    optimizer='sgd',\n",
        "    loss='sparse_categorical_crossentropy', # Changed to categorical_crossentropy\n",
        "    metrics=['accuracy'] # Corrected 'merticx' to 'metrics'\n",
        ")\n",
        "model.fit(x_train_s, y_train, epochs=5) # Use y_train instead of y_train_categorical\n"
      ],
      "metadata": {
        "id": "17RvKwGizpZ-"
      },
      "execution_count": null,
      "outputs": []
    },
    {
      "cell_type": "code",
      "source": [
        "model = keras.Sequential([\n",
        "    keras.layers.Flatten(input_shape=(32, 32, 3)),\n",
        "    keras.layers.Dense(300, activation='relu'),\n",
        "    keras.layers.Dense(10, activation='softmax') # Changed to 10 units and softmax for multi-class\n",
        "])\n",
        "model.compile(\n",
        "    optimizer='sgd',\n",
        "    loss='sparse_categorical_crossentropy', # Changed to categorical_crossentropy\n",
        "    metrics=['accuracy'] # Corrected 'merticx' to 'metrics'\n",
        ")\n",
        "model.fit(x_train_s, y_train, epochs=5) # Use y_train instead of y_train_categorical\n"
      ],
      "metadata": {
        "colab": {
          "base_uri": "https://localhost:8080/"
        },
        "id": "qSbPu7FRZu21",
        "outputId": "bd533733-58fc-480f-90e6-1702de658a45"
      },
      "execution_count": null,
      "outputs": [
        {
          "output_type": "stream",
          "name": "stdout",
          "text": [
            "Epoch 1/5\n",
            "\u001b[1m1563/1563\u001b[0m \u001b[32m━━━━━━━━━━━━━━━━━━━━\u001b[0m\u001b[37m\u001b[0m \u001b[1m7s\u001b[0m 4ms/step - accuracy: 0.2882 - loss: 1.9651\n",
            "Epoch 2/5\n",
            "\u001b[1m1563/1563\u001b[0m \u001b[32m━━━━━━━━━━━━━━━━━━━━\u001b[0m\u001b[37m\u001b[0m \u001b[1m7s\u001b[0m 2ms/step - accuracy: 0.3923 - loss: 1.7132\n",
            "Epoch 3/5\n",
            "\u001b[1m1563/1563\u001b[0m \u001b[32m━━━━━━━━━━━━━━━━━━━━\u001b[0m\u001b[37m\u001b[0m \u001b[1m6s\u001b[0m 3ms/step - accuracy: 0.4292 - loss: 1.6220\n",
            "Epoch 4/5\n",
            "\u001b[1m1563/1563\u001b[0m \u001b[32m━━━━━━━━━━━━━━━━━━━━\u001b[0m\u001b[37m\u001b[0m \u001b[1m4s\u001b[0m 2ms/step - accuracy: 0.4491 - loss: 1.5660\n",
            "Epoch 5/5\n",
            "\u001b[1m1563/1563\u001b[0m \u001b[32m━━━━━━━━━━━━━━━━━━━━\u001b[0m\u001b[37m\u001b[0m \u001b[1m6s\u001b[0m 2ms/step - accuracy: 0.4623 - loss: 1.5305\n"
          ]
        },
        {
          "output_type": "execute_result",
          "data": {
            "text/plain": [
              "<keras.src.callbacks.history.History at 0x7d8f5bf42150>"
            ]
          },
          "metadata": {},
          "execution_count": 17
        }
      ]
    },
    {
      "cell_type": "code",
      "source": [
        "model = keras.Sequential([\n",
        "    keras.layers.Flatten(input_shape=(32, 32, 3)),\n",
        "    keras.layers.Dense(3000, activation='relu'),\n",
        "    # keras.layers.Dropout(0.2),\n",
        "     keras.layers.Dense(3000, activation='relu'),\n",
        "     keras.layers.Dense(3000, activation='relu'),\n",
        "    #  keras.layers.Dropout(0.2),\n",
        "    keras.layers.Dense(10, activation='softmax') # Changed to 10 units and softmax for multi-class\n",
        "])\n",
        "\n",
        "model.compile(\n",
        "    optimizer='sgd',\n",
        "    loss='categorical_crossentropy', # Changed to categorical_crossentropy\n",
        "    metrics=['accuracy'] # Corrected 'merticx' to 'metrics'\n",
        ")\n",
        "\n",
        "model.fit(x_train_s, y_train_categorical, epochs=5)\n"
      ],
      "metadata": {
        "colab": {
          "base_uri": "https://localhost:8080/"
        },
        "id": "d040Wmz3cgfv",
        "outputId": "351f477a-15e7-45fa-b708-737908721cd1"
      },
      "execution_count": null,
      "outputs": [
        {
          "output_type": "stream",
          "name": "stdout",
          "text": [
            "Epoch 1/5\n",
            "\u001b[1m1563/1563\u001b[0m \u001b[32m━━━━━━━━━━━━━━━━━━━━\u001b[0m\u001b[37m\u001b[0m \u001b[1m11s\u001b[0m 6ms/step - accuracy: 0.3105 - loss: 1.9261\n",
            "Epoch 2/5\n",
            "\u001b[1m1563/1563\u001b[0m \u001b[32m━━━━━━━━━━━━━━━━━━━━\u001b[0m\u001b[37m\u001b[0m \u001b[1m19s\u001b[0m 6ms/step - accuracy: 0.4196 - loss: 1.6336\n",
            "Epoch 3/5\n",
            "\u001b[1m1563/1563\u001b[0m \u001b[32m━━━━━━━━━━━━━━━━━━━━\u001b[0m\u001b[37m\u001b[0m \u001b[1m10s\u001b[0m 6ms/step - accuracy: 0.4555 - loss: 1.5370\n",
            "Epoch 4/5\n",
            "\u001b[1m1563/1563\u001b[0m \u001b[32m━━━━━━━━━━━━━━━━━━━━\u001b[0m\u001b[37m\u001b[0m \u001b[1m10s\u001b[0m 6ms/step - accuracy: 0.4820 - loss: 1.4655\n",
            "Epoch 5/5\n",
            "\u001b[1m1563/1563\u001b[0m \u001b[32m━━━━━━━━━━━━━━━━━━━━\u001b[0m\u001b[37m\u001b[0m \u001b[1m10s\u001b[0m 6ms/step - accuracy: 0.5048 - loss: 1.4057\n"
          ]
        },
        {
          "output_type": "execute_result",
          "data": {
            "text/plain": [
              "<keras.src.callbacks.history.History at 0x7d8ef4ef28d0>"
            ]
          },
          "metadata": {},
          "execution_count": 18
        }
      ]
    },
    {
      "cell_type": "code",
      "source": [
        "model = keras.Sequential([\n",
        "    keras.layers.Flatten(input_shape=(32, 32, 3)),\n",
        "    keras.layers.Dense(3000, activation='relu'),\n",
        "    # keras.layers.Dropout(0.2),\n",
        "     keras.layers.Dense(3000, activation='relu'),\n",
        "     keras.layers.Dense(3000, activation='relu'),\n",
        "    #  keras.layers.Dropout(0.2),\n",
        "    keras.layers.Dense(10, activation='softmax') # Changed to 10 units and softmax for multi-class\n",
        "])\n",
        "\n",
        "model.compile(\n",
        "    optimizer='adam',\n",
        "    loss='categorical_crossentropy', # Changed to categorical_crossentropy\n",
        "    metrics=['accuracy'] # Corrected 'merticx' to 'metrics'\n",
        ")\n",
        "\n",
        "model.fit(x_train_s, y_train_categorical, epochs=5)"
      ],
      "metadata": {
        "colab": {
          "base_uri": "https://localhost:8080/"
        },
        "id": "XB_P6sm20Atn",
        "outputId": "65be23cb-0abb-4218-f08f-2f120430cbe7"
      },
      "execution_count": 19,
      "outputs": [
        {
          "output_type": "stream",
          "name": "stdout",
          "text": [
            "Epoch 1/5\n",
            "\u001b[1m1563/1563\u001b[0m \u001b[32m━━━━━━━━━━━━━━━━━━━━\u001b[0m\u001b[37m\u001b[0m \u001b[1m15s\u001b[0m 8ms/step - accuracy: 0.2554 - loss: 2.2286\n",
            "Epoch 2/5\n",
            "\u001b[1m1563/1563\u001b[0m \u001b[32m━━━━━━━━━━━━━━━━━━━━\u001b[0m\u001b[37m\u001b[0m \u001b[1m19s\u001b[0m 8ms/step - accuracy: 0.3685 - loss: 1.7349\n",
            "Epoch 3/5\n",
            "\u001b[1m1563/1563\u001b[0m \u001b[32m━━━━━━━━━━━━━━━━━━━━\u001b[0m\u001b[37m\u001b[0m \u001b[1m12s\u001b[0m 8ms/step - accuracy: 0.4073 - loss: 1.6361\n",
            "Epoch 4/5\n",
            "\u001b[1m1563/1563\u001b[0m \u001b[32m━━━━━━━━━━━━━━━━━━━━\u001b[0m\u001b[37m\u001b[0m \u001b[1m21s\u001b[0m 8ms/step - accuracy: 0.4258 - loss: 1.5827\n",
            "Epoch 5/5\n",
            "\u001b[1m1563/1563\u001b[0m \u001b[32m━━━━━━━━━━━━━━━━━━━━\u001b[0m\u001b[37m\u001b[0m \u001b[1m20s\u001b[0m 8ms/step - accuracy: 0.4410 - loss: 1.5427\n"
          ]
        },
        {
          "output_type": "execute_result",
          "data": {
            "text/plain": [
              "<keras.src.callbacks.history.History at 0x7d8ef4f1fb50>"
            ]
          },
          "metadata": {},
          "execution_count": 19
        }
      ]
    },
    {
      "cell_type": "code",
      "source": [
        "model = keras.Sequential([\n",
        "    keras.layers.Flatten(input_shape=(32, 32, 3)),\n",
        "    keras.layers.Dense(3000, activation='relu'),\n",
        "    keras.layers.Dropout(0.2),\n",
        "     keras.layers.Dense(3000, activation='relu'),\n",
        "     keras.layers.Dense(3000, activation='relu'),\n",
        "     keras.layers.Dropout(0.2),\n",
        "    keras.layers.Dense(10, activation='softmax') # Changed to 10 units and softmax for multi-class\n",
        "])\n",
        "\n",
        "model.compile(\n",
        "    optimizer='sgd',\n",
        "    loss='categorical_crossentropy', # Changed to categorical_crossentropy\n",
        "    metrics=['accuracy'] # Corrected 'merticx' to 'metrics'\n",
        ")\n",
        "\n",
        "model.fit(x_train_s, y_train_categorical, epochs=20)\n"
      ],
      "metadata": {
        "id": "OXdExdAjz3KO",
        "colab": {
          "base_uri": "https://localhost:8080/"
        },
        "outputId": "3032ba27-a313-4273-dd58-5e97b0d11c6d"
      },
      "execution_count": 20,
      "outputs": [
        {
          "output_type": "stream",
          "name": "stdout",
          "text": [
            "Epoch 1/20\n",
            "\u001b[1m1563/1563\u001b[0m \u001b[32m━━━━━━━━━━━━━━━━━━━━\u001b[0m\u001b[37m\u001b[0m \u001b[1m12s\u001b[0m 7ms/step - accuracy: 0.2809 - loss: 1.9785\n",
            "Epoch 2/20\n",
            "\u001b[1m1563/1563\u001b[0m \u001b[32m━━━━━━━━━━━━━━━━━━━━\u001b[0m\u001b[37m\u001b[0m \u001b[1m18s\u001b[0m 6ms/step - accuracy: 0.4013 - loss: 1.6865\n",
            "Epoch 3/20\n",
            "\u001b[1m1563/1563\u001b[0m \u001b[32m━━━━━━━━━━━━━━━━━━━━\u001b[0m\u001b[37m\u001b[0m \u001b[1m9s\u001b[0m 6ms/step - accuracy: 0.4360 - loss: 1.5948\n",
            "Epoch 4/20\n",
            "\u001b[1m1563/1563\u001b[0m \u001b[32m━━━━━━━━━━━━━━━━━━━━\u001b[0m\u001b[37m\u001b[0m \u001b[1m10s\u001b[0m 6ms/step - accuracy: 0.4523 - loss: 1.5399\n",
            "Epoch 5/20\n",
            "\u001b[1m1563/1563\u001b[0m \u001b[32m━━━━━━━━━━━━━━━━━━━━\u001b[0m\u001b[37m\u001b[0m \u001b[1m9s\u001b[0m 6ms/step - accuracy: 0.4731 - loss: 1.4884\n",
            "Epoch 6/20\n",
            "\u001b[1m1563/1563\u001b[0m \u001b[32m━━━━━━━━━━━━━━━━━━━━\u001b[0m\u001b[37m\u001b[0m \u001b[1m9s\u001b[0m 6ms/step - accuracy: 0.4850 - loss: 1.4472\n",
            "Epoch 7/20\n",
            "\u001b[1m1563/1563\u001b[0m \u001b[32m━━━━━━━━━━━━━━━━━━━━\u001b[0m\u001b[37m\u001b[0m \u001b[1m9s\u001b[0m 6ms/step - accuracy: 0.4981 - loss: 1.4081\n",
            "Epoch 8/20\n",
            "\u001b[1m1563/1563\u001b[0m \u001b[32m━━━━━━━━━━━━━━━━━━━━\u001b[0m\u001b[37m\u001b[0m \u001b[1m9s\u001b[0m 6ms/step - accuracy: 0.5133 - loss: 1.3812\n",
            "Epoch 9/20\n",
            "\u001b[1m1563/1563\u001b[0m \u001b[32m━━━━━━━━━━━━━━━━━━━━\u001b[0m\u001b[37m\u001b[0m \u001b[1m9s\u001b[0m 6ms/step - accuracy: 0.5205 - loss: 1.3505\n",
            "Epoch 10/20\n",
            "\u001b[1m1563/1563\u001b[0m \u001b[32m━━━━━━━━━━━━━━━━━━━━\u001b[0m\u001b[37m\u001b[0m \u001b[1m10s\u001b[0m 6ms/step - accuracy: 0.5334 - loss: 1.3170\n",
            "Epoch 11/20\n",
            "\u001b[1m1563/1563\u001b[0m \u001b[32m━━━━━━━━━━━━━━━━━━━━\u001b[0m\u001b[37m\u001b[0m \u001b[1m10s\u001b[0m 6ms/step - accuracy: 0.5399 - loss: 1.2960\n",
            "Epoch 12/20\n",
            "\u001b[1m1563/1563\u001b[0m \u001b[32m━━━━━━━━━━━━━━━━━━━━\u001b[0m\u001b[37m\u001b[0m \u001b[1m9s\u001b[0m 6ms/step - accuracy: 0.5483 - loss: 1.2646\n",
            "Epoch 13/20\n",
            "\u001b[1m1563/1563\u001b[0m \u001b[32m━━━━━━━━━━━━━━━━━━━━\u001b[0m\u001b[37m\u001b[0m \u001b[1m10s\u001b[0m 6ms/step - accuracy: 0.5621 - loss: 1.2455\n",
            "Epoch 14/20\n",
            "\u001b[1m1563/1563\u001b[0m \u001b[32m━━━━━━━━━━━━━━━━━━━━\u001b[0m\u001b[37m\u001b[0m \u001b[1m9s\u001b[0m 6ms/step - accuracy: 0.5698 - loss: 1.2220\n",
            "Epoch 15/20\n",
            "\u001b[1m1563/1563\u001b[0m \u001b[32m━━━━━━━━━━━━━━━━━━━━\u001b[0m\u001b[37m\u001b[0m \u001b[1m10s\u001b[0m 6ms/step - accuracy: 0.5740 - loss: 1.2045\n",
            "Epoch 16/20\n",
            "\u001b[1m1563/1563\u001b[0m \u001b[32m━━━━━━━━━━━━━━━━━━━━\u001b[0m\u001b[37m\u001b[0m \u001b[1m10s\u001b[0m 6ms/step - accuracy: 0.5822 - loss: 1.1777\n",
            "Epoch 17/20\n",
            "\u001b[1m1563/1563\u001b[0m \u001b[32m━━━━━━━━━━━━━━━━━━━━\u001b[0m\u001b[37m\u001b[0m \u001b[1m10s\u001b[0m 6ms/step - accuracy: 0.5937 - loss: 1.1437\n",
            "Epoch 18/20\n",
            "\u001b[1m1563/1563\u001b[0m \u001b[32m━━━━━━━━━━━━━━━━━━━━\u001b[0m\u001b[37m\u001b[0m \u001b[1m9s\u001b[0m 6ms/step - accuracy: 0.6018 - loss: 1.1240\n",
            "Epoch 19/20\n",
            "\u001b[1m1563/1563\u001b[0m \u001b[32m━━━━━━━━━━━━━━━━━━━━\u001b[0m\u001b[37m\u001b[0m \u001b[1m10s\u001b[0m 6ms/step - accuracy: 0.6058 - loss: 1.0999\n",
            "Epoch 20/20\n",
            "\u001b[1m1563/1563\u001b[0m \u001b[32m━━━━━━━━━━━━━━━━━━━━\u001b[0m\u001b[37m\u001b[0m \u001b[1m10s\u001b[0m 6ms/step - accuracy: 0.6146 - loss: 1.0872\n"
          ]
        },
        {
          "output_type": "execute_result",
          "data": {
            "text/plain": [
              "<keras.src.callbacks.history.History at 0x7d8ee39ef950>"
            ]
          },
          "metadata": {},
          "execution_count": 20
        }
      ]
    },
    {
      "cell_type": "code",
      "source": [],
      "metadata": {
        "id": "XDg-gb30Hgzd"
      },
      "execution_count": null,
      "outputs": []
    },
    {
      "cell_type": "markdown",
      "source": [
        "#Convolutation Neural network"
      ],
      "metadata": {
        "id": "t13xiAw9t1st"
      }
    },
    {
      "cell_type": "code",
      "source": [
        "from tensorflow.keras import layers\n",
        "\n",
        "model1 = keras.Sequential([\n",
        "                        #  Convolutation layer\n",
        "    layers.Conv2D(filters=32,activation='relu',kernel_size =(3,3),input_shape =(32,32,3))  ,\n",
        "    layers.MaxPooling2D(2,2),\n",
        "                          # Dense Layer\n",
        "    keras.layers.Flatten(input_shape=(32, 32, 3)),\n",
        "    keras.layers.Dense(3000, activation='relu'),\n",
        "    keras.layers.Dropout(0.2),\n",
        "    keras.layers.Dense(3000, activation='relu'),\n",
        "    keras.layers.Dense(3000, activation='relu'),\n",
        "    keras.layers.Dropout(0.2),\n",
        "    keras.layers.Dense(10, activation='softmax') # Changed to 10 units and softmax for multi-class\n",
        "])\n",
        "model1.compile(\n",
        "    optimizer='sgd',\n",
        "    loss='sparse_categorical_crossentropy', # Changed to categorical_crossentropy\n",
        "    metrics=['accuracy'] # Corrected 'merticx' to 'metrics'\n",
        ")\n",
        "model1.fit(x_train_s, y_train, epochs=5)\n"
      ],
      "metadata": {
        "id": "vCMlLb7IUxXw",
        "colab": {
          "base_uri": "https://localhost:8080/"
        },
        "outputId": "eb916a2c-48d8-47dd-feca-3ba9bc43c3e5"
      },
      "execution_count": null,
      "outputs": [
        {
          "output_type": "stream",
          "name": "stderr",
          "text": [
            "/usr/local/lib/python3.11/dist-packages/keras/src/layers/convolutional/base_conv.py:107: UserWarning: Do not pass an `input_shape`/`input_dim` argument to a layer. When using Sequential models, prefer using an `Input(shape)` object as the first layer in the model instead.\n",
            "  super().__init__(activity_regularizer=activity_regularizer, **kwargs)\n"
          ]
        },
        {
          "output_type": "stream",
          "name": "stdout",
          "text": [
            "Epoch 1/5\n",
            "\u001b[1m1563/1563\u001b[0m \u001b[32m━━━━━━━━━━━━━━━━━━━━\u001b[0m\u001b[37m\u001b[0m \u001b[1m18s\u001b[0m 10ms/step - accuracy: 0.2483 - loss: 2.0610\n",
            "Epoch 2/5\n",
            "\u001b[1m1563/1563\u001b[0m \u001b[32m━━━━━━━━━━━━━━━━━━━━\u001b[0m\u001b[37m\u001b[0m \u001b[1m17s\u001b[0m 9ms/step - accuracy: 0.4249 - loss: 1.6003\n",
            "Epoch 3/5\n",
            "\u001b[1m1563/1563\u001b[0m \u001b[32m━━━━━━━━━━━━━━━━━━━━\u001b[0m\u001b[37m\u001b[0m \u001b[1m20s\u001b[0m 9ms/step - accuracy: 0.5022 - loss: 1.3858\n",
            "Epoch 4/5\n",
            "\u001b[1m1009/1563\u001b[0m \u001b[32m━━━━━━━━━━━━\u001b[0m\u001b[37m━━━━━━━━\u001b[0m \u001b[1m4s\u001b[0m 9ms/step - accuracy: 0.5474 - loss: 1.2534"
          ]
        }
      ]
    },
    {
      "cell_type": "markdown",
      "source": [
        "# Multiple Convolutional layers Nural Network"
      ],
      "metadata": {
        "id": "sUZvA1_DwGsn"
      }
    },
    {
      "cell_type": "code",
      "source": [
        "\n",
        "\n",
        "model2 = keras.Sequential([\n",
        "                        #  Convolutation layer\n",
        "    layers.Conv2D(filters=32,activation='relu',kernel_size =(3,3),input_shape =(32,32,3))  ,\n",
        "    layers.MaxPooling2D(2,2),\n",
        "    layers.Conv2D(filters=62,activation='relu',kernel_size =(3,3),input_shape =(32,32,3))  ,\n",
        "    layers.MaxPooling2D(2,2),\n",
        "\n",
        "                          # Dense Layer\n",
        "    keras.layers.Flatten(input_shape=(32, 32, 3)),\n",
        "    keras.layers.Dense(3000, activation='relu'),\n",
        "    keras.layers.Dropout(0.2),\n",
        "    keras.layers.Dense(3000, activation='relu'),\n",
        "    keras.layers.Dense(3000, activation='relu'),\n",
        "    keras.layers.Dropout(0.2),\n",
        "    keras.layers.Dense(10, activation='softmax') # Changed to 10 units and softmax for multi-class\n",
        "])\n",
        "model2.compile(\n",
        "    optimizer='sgd',\n",
        "    loss='sparse_categorical_crossentropy', # Changed to categorical_crossentropy\n",
        "    metrics=['accuracy'] # Corrected 'merticx' to 'metrics'\n",
        ")\n",
        "model2.fit(x_train_s, y_train, epochs=5)\n"
      ],
      "metadata": {
        "id": "xrKBzp0lvyU6"
      },
      "execution_count": null,
      "outputs": []
    },
    {
      "cell_type": "code",
      "source": [
        "\n",
        "\n",
        "model3 = keras.Sequential([\n",
        "                        #  Convolutation layer\n",
        "    layers.Conv2D(filters=32,activation='relu',kernel_size =(3,3),input_shape =(32,32,3))  ,\n",
        "    layers.MaxPooling2D(2,2),\n",
        "    layers.Conv2D(filters=62,activation='relu',kernel_size =(3,3),input_shape =(32,32,3))  ,\n",
        "    layers.MaxPooling2D(2,2),\n",
        "     layers.Conv2D(filters=102,activation='relu',kernel_size =(3,3),input_shape =(32,32,3))  ,\n",
        "    layers.MaxPooling2D(2,2),\n",
        "\n",
        "                          # Dense Layer\n",
        "    keras.layers.Flatten(input_shape=(32, 32, 3)),\n",
        "    keras.layers.Dense(3000, activation='relu'),\n",
        "    keras.layers.Dropout(0.2),\n",
        "    keras.layers.Dense(3000, activation='relu'),\n",
        "    keras.layers.Dense(3000, activation='relu'),\n",
        "    keras.layers.Dropout(0.2),\n",
        "    keras.layers.Dense(10, activation='softmax') # Changed to 10 units and softmax for multi-class\n",
        "])\n",
        "model3.compile(\n",
        "    optimizer='sgd',\n",
        "    loss='sparse_categorical_crossentropy', # Changed to categorical_crossentropy\n",
        "    metrics=['accuracy'] # Corrected 'merticx' to 'metrics'\n",
        ")\n",
        "model3.fit(x_train_s, y_train, epochs=5)\n"
      ],
      "metadata": {
        "id": "Gj9EmYclwPcO"
      },
      "execution_count": null,
      "outputs": []
    },
    {
      "cell_type": "code",
      "source": [
        "cnn = keras.Sequential([\n",
        "                        #  Convolutation layer\n",
        "    layers.Conv2D(filters=32,activation='relu',kernel_size =(3,3),input_shape =(32,32,3))  ,\n",
        "    layers.MaxPooling2D(2,2),\n",
        "\n",
        "    layers.Conv2D(filters=62,activation='relu',kernel_size =(3,3),input_shape =(32,32,3))  ,\n",
        "    layers.MaxPooling2D(2,2),\n",
        "\n",
        "     layers.Conv2D(filters=102,activation='relu',kernel_size =(3,3),input_shape =(32,32,3))  ,\n",
        "    layers.MaxPooling2D(2,2),\n",
        "\n",
        "                          # Dense Layer\n",
        "    keras.layers.Flatten(input_shape=(32, 32, 3)),\n",
        "    keras.layers.Dense(3000, activation='relu'),\n",
        "    keras.layers.Dropout(0.2),\n",
        "    keras.layers.Dense(3000, activation='relu'),\n",
        "    keras.layers.Dense(3000, activation='relu'),\n",
        "    keras.layers.Dropout(0.2),\n",
        "    keras.layers.Dense(10, activation='softmax') # Changed to 10 units and softmax for multi-class\n",
        "])\n",
        "cnn.compile(\n",
        "    optimizer='adam',\n",
        "    loss='sparse_categorical_crossentropy', # Changed to categorical_crossentropy\n",
        "    metrics=['accuracy'] # Corrected 'merticx' to 'metrics'\n",
        ")\n",
        "cnn.fit(x_train_s, y_train, epochs=50)"
      ],
      "metadata": {
        "id": "GzJFXcTyzBIz"
      },
      "execution_count": null,
      "outputs": []
    },
    {
      "cell_type": "code",
      "source": [
        "# prompt: evalution\n",
        "\n",
        "# Evaluate the model on the test data\n",
        "loss, accuracy = cnn.evaluate(x_test_s, y_test) # Use x_test_s instead of x_test\n",
        "print(f\"Loss: {loss}\")\n",
        "print(f\"Accuracy: {accuracy}\")\n"
      ],
      "metadata": {
        "id": "yezpnvBO-2ee"
      },
      "execution_count": null,
      "outputs": []
    },
    {
      "cell_type": "code",
      "source": [
        "y_pred = cnn.predict(x_test_s)\n",
        "y_class  = [np.argmax(element) for element in y_pred]\n",
        "\n",
        "# Compare predictions with actual values for the first 5 images\n",
        "for i in range(10):\n",
        "    print(f\"Image {i+1}:\")\n",
        "    print(f\"  Predicted class: {y_class[i]}\")\n",
        "    print(f\"  Actual class: {y_test[i][0]}\")\n",
        "\n",
        "    # Optional: Display the image and its label\n",
        "    plt.figure(figsize=(2,2))\n",
        "    plt.imshow(x_test[i])\n",
        "    plt.title(f\"Predicted: {y_class[i]}, Actual: {y_test[i][0]}\")\n",
        "    # plt.show()\n"
      ],
      "metadata": {
        "id": "Wz-TcM_hDn7t"
      },
      "execution_count": null,
      "outputs": []
    },
    {
      "cell_type": "code",
      "source": [
        "# prompt: from sklearn.metrics import confusion_matrix,classification_report\n",
        "# cm = confusion_matrix(y_test,y_class)\n",
        "\n",
        "from sklearn.metrics import confusion_matrix, classification_report\n",
        "\n",
        "cm = confusion_matrix(y_test, y_class)\n",
        "# print(cm)\n",
        "\n",
        "# Assuming you have y_test and y_class defined\n",
        "print(classification_report(y_test, y_class))\n"
      ],
      "metadata": {
        "id": "rgnCIPSDEWmX"
      },
      "execution_count": null,
      "outputs": []
    },
    {
      "cell_type": "code",
      "source": [],
      "metadata": {
        "id": "99Nt2enCM27Y"
      },
      "execution_count": null,
      "outputs": []
    }
  ]
}