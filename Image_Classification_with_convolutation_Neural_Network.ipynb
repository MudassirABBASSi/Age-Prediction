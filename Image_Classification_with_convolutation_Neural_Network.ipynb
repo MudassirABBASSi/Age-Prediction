{
  "cells": [
    {
      "cell_type": "markdown",
      "metadata": {
        "id": "view-in-github",
        "colab_type": "text"
      },
      "source": [
        "<a href=\"https://colab.research.google.com/github/MudassirABBASSi/Age-Prediction/blob/main/Image_Classification_with_convolutation_Neural_Network.ipynb\" target=\"_parent\"><img src=\"https://colab.research.google.com/assets/colab-badge.svg\" alt=\"Open In Colab\"/></a>"
      ]
    },
    {
      "cell_type": "code",
      "execution_count": 26,
      "metadata": {
        "id": "LFkmhtdqQDv7"
      },
      "outputs": [],
      "source": [
        "import tensorflow as tf\n",
        "from tensorflow import keras\n",
        "from tensorflow.keras import layers\n",
        "\n",
        "import matplotlib.pyplot as plt\n",
        "import numpy as np\n",
        "\n"
      ]
    },
    {
      "cell_type": "code",
      "execution_count": 2,
      "metadata": {
        "id": "5rZR3AzDWqb3",
        "colab": {
          "base_uri": "https://localhost:8080/"
        },
        "outputId": "09176cae-aba8-4e2a-b223-cb390251ef14"
      },
      "outputs": [
        {
          "output_type": "stream",
          "name": "stdout",
          "text": [
            "Downloading data from https://www.cs.toronto.edu/~kriz/cifar-10-python.tar.gz\n",
            "\u001b[1m170498071/170498071\u001b[0m \u001b[32m━━━━━━━━━━━━━━━━━━━━\u001b[0m\u001b[37m\u001b[0m \u001b[1m8s\u001b[0m 0us/step\n"
          ]
        }
      ],
      "source": [
        "(x_train,y_train),(x_test,y_test) = keras.datasets.cifar10.load_data()"
      ]
    },
    {
      "cell_type": "code",
      "execution_count": 3,
      "metadata": {
        "id": "6oCyICheX0rm",
        "colab": {
          "base_uri": "https://localhost:8080/"
        },
        "outputId": "92aaac0a-73d6-413b-f708-7bec26cb2625"
      },
      "outputs": [
        {
          "output_type": "execute_result",
          "data": {
            "text/plain": [
              "(50000, 32, 32, 3)"
            ]
          },
          "metadata": {},
          "execution_count": 3
        }
      ],
      "source": [
        "x_train.shape"
      ]
    },
    {
      "cell_type": "code",
      "execution_count": 4,
      "metadata": {
        "id": "-LmZ8ztKX7jZ",
        "colab": {
          "base_uri": "https://localhost:8080/"
        },
        "outputId": "b9f4f67b-eef8-48ee-e1db-1d8942e40885"
      },
      "outputs": [
        {
          "output_type": "execute_result",
          "data": {
            "text/plain": [
              "(50000, 1)"
            ]
          },
          "metadata": {},
          "execution_count": 4
        }
      ],
      "source": [
        "y_train.shape"
      ]
    },
    {
      "cell_type": "code",
      "execution_count": 5,
      "metadata": {
        "id": "GK9jxmz7X7fp",
        "colab": {
          "base_uri": "https://localhost:8080/"
        },
        "outputId": "acd34db0-ec76-42ef-8db9-4f39de609a70"
      },
      "outputs": [
        {
          "output_type": "execute_result",
          "data": {
            "text/plain": [
              "(10000, 32, 32, 3)"
            ]
          },
          "metadata": {},
          "execution_count": 5
        }
      ],
      "source": [
        "x_test.shape"
      ]
    },
    {
      "cell_type": "code",
      "execution_count": 6,
      "metadata": {
        "id": "wspvdUUYX2N8",
        "colab": {
          "base_uri": "https://localhost:8080/"
        },
        "outputId": "6dd66ae0-c2ad-4df0-edd1-45c04aba768c"
      },
      "outputs": [
        {
          "output_type": "execute_result",
          "data": {
            "text/plain": [
              "(10000, 1)"
            ]
          },
          "metadata": {},
          "execution_count": 6
        }
      ],
      "source": [
        "y_test.shape"
      ]
    },
    {
      "cell_type": "code",
      "execution_count": 7,
      "metadata": {
        "id": "nkjT1eEaX6yE",
        "colab": {
          "base_uri": "https://localhost:8080/",
          "height": 142
        },
        "outputId": "c88daf59-e5a7-4b86-d719-d91cfbc60b37"
      },
      "outputs": [
        {
          "output_type": "display_data",
          "data": {
            "text/plain": [
              "<Figure size 1000x100 with 1 Axes>"
            ],
            "image/png": "[encoded data removed]"
          },
          "metadata": {}
        }
      ],
      "source": [
        "def simple_plot(index):\n",
        "  plt.figure(figsize=(10,1))\n",
        "  plt.imshow(x_train[index])\n",
        "  plt.show()\n",
        "\n",
        "simple_plot(10)"
      ]
    },
    {
      "cell_type": "code",
      "execution_count": 8,
      "metadata": {
        "id": "_sFIxE5lY5L1",
        "colab": {
          "base_uri": "https://localhost:8080/",
          "height": 161
        },
        "outputId": "d82994d0-62eb-49da-a6ef-bbd8577414ce"
      },
      "outputs": [
        {
          "output_type": "display_data",
          "data": {
            "text/plain": [
              "<Figure size 1000x100 with 1 Axes>"
            ],
            "image/png": "[encoded data removed]"
          },
          "metadata": {}
        }
      ],
      "source": [
        "def simple_plot(index):\n",
        "  plt.figure(figsize=(10,1))\n",
        "  plt.imshow(x_train[index])\n",
        "  plt.xlabel(f\"Image Label: {y_train[index][0]}\") # Display the label\n",
        "  plt.show()\n",
        "\n",
        "\n",
        "simple_plot(10)\n"
      ]
    },
    {
      "cell_type": "code",
      "execution_count": 9,
      "metadata": {
        "id": "FdXPqDPlYqI_",
        "colab": {
          "base_uri": "https://localhost:8080/",
          "height": 160
        },
        "outputId": "89d57e34-277a-442a-ec38-004e1054e29d"
      },
      "outputs": [
        {
          "output_type": "display_data",
          "data": {
            "text/plain": [
              "<Figure size 1000x100 with 1 Axes>"
            ],
            "image/png": "[encoded data removed]"
          },
          "metadata": {}
        }
      ],
      "source": [
        "def plot_label(index):\n",
        "    plt.figure(figsize=(10,1))\n",
        "    plt.title(f\"Label: {y_train[index][0]}\")  # Access the label value and show it as title.\n",
        "    # plt.axis('off') # Hide axes for cleaner view.\n",
        "    plt.imshow(x_train[index]) # display the image\n",
        "    plt.show() # show the plot\n",
        "\n",
        "plot_label(1)\n"
      ]
    },
    {
      "cell_type": "markdown",
      "metadata": {
        "id": "stxpwY-eZUgV"
      },
      "source": [
        "# Scaling"
      ]
    },
    {
      "cell_type": "code",
      "execution_count": 10,
      "metadata": {
        "id": "MG2fYj8zY02R"
      },
      "outputs": [],
      "source": [
        "x_train_s = x_train/255\n",
        "x_test_s = x_test/255"
      ]
    },
    {
      "cell_type": "code",
      "execution_count": 11,
      "metadata": {
        "id": "lMuGXVTxZc1Q",
        "colab": {
          "base_uri": "https://localhost:8080/"
        },
        "outputId": "d9968e15-6c2a-4ede-f1cb-70e7e44ff620"
      },
      "outputs": [
        {
          "output_type": "execute_result",
          "data": {
            "text/plain": [
              "(10000, 32, 32, 3)"
            ]
          },
          "metadata": {},
          "execution_count": 11
        }
      ],
      "source": [
        "x_test_s.shape"
      ]
    },
    {
      "cell_type": "code",
      "execution_count": 12,
      "metadata": {
        "id": "pr7ItMgcZhnK",
        "colab": {
          "base_uri": "https://localhost:8080/"
        },
        "outputId": "be6f4b80-98e3-497d-a245-d7339150ef23"
      },
      "outputs": [
        {
          "output_type": "execute_result",
          "data": {
            "text/plain": [
              "(10000, 32, 32, 3)"
            ]
          },
          "metadata": {},
          "execution_count": 12
        }
      ],
      "source": [
        "x_test_s.shape"
      ]
    },
    {
      "cell_type": "code",
      "execution_count": 13,
      "metadata": {
        "id": "-VTqUfdRZjPz"
      },
      "outputs": [],
      "source": [
        "y_train_categorical = keras.utils.to_categorical(y_train , num_classes=10)\n",
        "y_test_categorical = keras.utils.to_categorical(y_test , num_classes=10)"
      ]
    },
    {
      "cell_type": "code",
      "execution_count": 14,
      "metadata": {
        "id": "q1B4-42iZv0p",
        "colab": {
          "base_uri": "https://localhost:8080/"
        },
        "outputId": "42a1fd8b-e61b-4987-eb2a-9f993fc177de"
      },
      "outputs": [
        {
          "output_type": "execute_result",
          "data": {
            "text/plain": [
              "array([[6],\n",
              "       [9],\n",
              "       [9],\n",
              "       [4],\n",
              "       [1]], dtype=uint8)"
            ]
          },
          "metadata": {},
          "execution_count": 14
        }
      ],
      "source": [
        "y_train[:5]"
      ]
    },
    {
      "cell_type": "code",
      "execution_count": 15,
      "metadata": {
        "id": "YPmCzD6RZpxU",
        "colab": {
          "base_uri": "https://localhost:8080/"
        },
        "outputId": "f5e44954-28bb-4288-9fbd-68ff1d284d89"
      },
      "outputs": [
        {
          "output_type": "execute_result",
          "data": {
            "text/plain": [
              "array([[0., 0., 0., 0., 0., 0., 1., 0., 0., 0.],\n",
              "       [0., 0., 0., 0., 0., 0., 0., 0., 0., 1.],\n",
              "       [0., 0., 0., 0., 0., 0., 0., 0., 0., 1.],\n",
              "       [0., 0., 0., 0., 1., 0., 0., 0., 0., 0.],\n",
              "       [0., 1., 0., 0., 0., 0., 0., 0., 0., 0.]])"
            ]
          },
          "metadata": {},
          "execution_count": 15
        }
      ],
      "source": [
        "y_train_categorical[:5]"
      ]
    },
    {
      "cell_type": "code",
      "execution_count": 16,
      "metadata": {
        "id": "17RvKwGizpZ-",
        "colab": {
          "base_uri": "https://localhost:8080/"
        },
        "outputId": "07989bce-22eb-41c7-e350-cff26c718e55"
      },
      "outputs": [
        {
          "output_type": "stream",
          "name": "stderr",
          "text": [
            "/usr/local/lib/python3.11/dist-packages/keras/src/layers/reshaping/flatten.py:37: UserWarning: Do not pass an `input_shape`/`input_dim` argument to a layer. When using Sequential models, prefer using an `Input(shape)` object as the first layer in the model instead.\n",
            "  super().__init__(**kwargs)\n"
          ]
        },
        {
          "output_type": "stream",
          "name": "stdout",
          "text": [
            "Epoch 1/5\n",
            "\u001b[1m1563/1563\u001b[0m \u001b[32m━━━━━━━━━━━━━━━━━━━━\u001b[0m\u001b[37m\u001b[0m \u001b[1m5s\u001b[0m 3ms/step - accuracy: 0.2625 - loss: 2.0349\n",
            "Epoch 2/5\n",
            "\u001b[1m1563/1563\u001b[0m \u001b[32m━━━━━━━━━━━━━━━━━━━━\u001b[0m\u001b[37m\u001b[0m \u001b[1m3s\u001b[0m 2ms/step - accuracy: 0.3507 - loss: 1.8476\n",
            "Epoch 3/5\n",
            "\u001b[1m1563/1563\u001b[0m \u001b[32m━━━━━━━━━━━━━━━━━━━━\u001b[0m\u001b[37m\u001b[0m \u001b[1m5s\u001b[0m 2ms/step - accuracy: 0.3632 - loss: 1.8199\n",
            "Epoch 4/5\n",
            "\u001b[1m1563/1563\u001b[0m \u001b[32m━━━━━━━━━━━━━━━━━━━━\u001b[0m\u001b[37m\u001b[0m \u001b[1m5s\u001b[0m 2ms/step - accuracy: 0.3738 - loss: 1.7885\n",
            "Epoch 5/5\n",
            "\u001b[1m1563/1563\u001b[0m \u001b[32m━━━━━━━━━━━━━━━━━━━━\u001b[0m\u001b[37m\u001b[0m \u001b[1m4s\u001b[0m 3ms/step - accuracy: 0.3808 - loss: 1.7750\n"
          ]
        },
        {
          "output_type": "execute_result",
          "data": {
            "text/plain": [
              "<keras.src.callbacks.history.History at 0x7882d76e3490>"
            ]
          },
          "metadata": {},
          "execution_count": 16
        }
      ],
      "source": [
        "model = keras.Sequential([\n",
        "    keras.layers.Flatten(input_shape=(32, 32, 3)),\n",
        "\n",
        "    keras.layers.Dense(10, activation='softmax') # Changed to 10 units and softmax for multi-class\n",
        "])\n",
        "model.compile(\n",
        "    optimizer='sgd',\n",
        "    loss='sparse_categorical_crossentropy', # Changed to categorical_crossentropy\n",
        "    metrics=['accuracy'] # Corrected 'merticx' to 'metrics'\n",
        ")\n",
        "model.fit(x_train_s, y_train, epochs=5) # Use y_train instead of y_train_categorical\n"
      ]
    },
    {
      "cell_type": "code",
      "execution_count": 17,
      "metadata": {
        "id": "qSbPu7FRZu21"
      },
      "outputs": [],
      "source": [
        "# model = keras.Sequential([\n",
        "#     keras.layers.Flatten(input_shape=(32, 32, 3)),\n",
        "#     keras.layers.Dense(300, activation='relu'),\n",
        "#     keras.layers.Dense(10, activation='softmax') # Changed to 10 units and softmax for multi-class\n",
        "# ])\n",
        "# model.compile(\n",
        "#     optimizer='sgd',\n",
        "#     loss='sparse_categorical_crossentropy', # Changed to categorical_crossentropy\n",
        "#     metrics=['accuracy'] # Corrected 'merticx' to 'metrics'\n",
        "# )\n",
        "# model.fit(x_train_s, y_train, epochs=5) # Use y_train instead of y_train_categorical\n"
      ]
    },
    {
      "cell_type": "code",
      "execution_count": 18,
      "metadata": {
        "id": "d040Wmz3cgfv"
      },
      "outputs": [],
      "source": [
        "# model = keras.Sequential([\n",
        "#     keras.layers.Flatten(input_shape=(32, 32, 3)),\n",
        "#     keras.layers.Dense(3000, activation='relu'),\n",
        "#     # keras.layers.Dropout(0.2),\n",
        "#      keras.layers.Dense(3000, activation='relu'),\n",
        "#      keras.layers.Dense(3000, activation='relu'),\n",
        "#     #  keras.layers.Dropout(0.2),\n",
        "#     keras.layers.Dense(10, activation='softmax') # Changed to 10 units and softmax for multi-class\n",
        "# ])\n",
        "\n",
        "# model.compile(\n",
        "#     optimizer='sgd',\n",
        "#     loss='categorical_crossentropy', # Changed to categorical_crossentropy\n",
        "#     metrics=['accuracy'] # Corrected 'merticx' to 'metrics'\n",
        "# )\n",
        "\n",
        "# model.fit(x_train_s, y_train_categorical, epochs=5)\n"
      ]
    },
    {
      "cell_type": "code",
      "execution_count": 19,
      "metadata": {
        "id": "XB_P6sm20Atn"
      },
      "outputs": [],
      "source": [
        "# model = keras.Sequential([\n",
        "#     keras.layers.Flatten(input_shape=(32, 32, 3)),\n",
        "#     keras.layers.Dense(3000, activation='relu'),\n",
        "#     # keras.layers.Dropout(0.2),\n",
        "#      keras.layers.Dense(3000, activation='relu'),\n",
        "#      keras.layers.Dense(3000, activation='relu'),\n",
        "#     #  keras.layers.Dropout(0.2),\n",
        "#     keras.layers.Dense(10, activation='softmax') # Changed to 10 units and softmax for multi-class\n",
        "# ])\n",
        "\n",
        "# model.compile(\n",
        "#     optimizer='adam',\n",
        "#     loss='categorical_crossentropy', # Changed to categorical_crossentropy\n",
        "#     metrics=['accuracy'] # Corrected 'merticx' to 'metrics'\n",
        "# )\n",
        "\n",
        "# model.fit(x_train_s, y_train_categorical, epochs=5)"
      ]
    },
    {
      "cell_type": "code",
      "execution_count": 20,
      "metadata": {
        "id": "OXdExdAjz3KO"
      },
      "outputs": [],
      "source": [
        "# model = keras.Sequential([\n",
        "#     keras.layers.Flatten(input_shape=(32, 32, 3)),\n",
        "#     keras.layers.Dense(3000, activation='relu'),\n",
        "#     keras.layers.Dropout(0.2),\n",
        "#      keras.layers.Dense(3000, activation='relu'),\n",
        "#      keras.layers.Dense(3000, activation='relu'),\n",
        "#      keras.layers.Dropout(0.2),\n",
        "#     keras.layers.Dense(10, activation='softmax') # Changed to 10 units and softmax for multi-class\n",
        "# ])\n",
        "\n",
        "# model.compile(\n",
        "#     optimizer='sgd',\n",
        "#     loss='categorical_crossentropy', # Changed to categorical_crossentropy\n",
        "#     metrics=['accuracy'] # Corrected 'merticx' to 'metrics'\n",
        "# )\n",
        "\n",
        "# model.fit(x_train_s, y_train_categorical, epochs=20)\n"
      ]
    },
    {
      "cell_type": "code",
      "execution_count": 20,
      "metadata": {
        "id": "XDg-gb30Hgzd"
      },
      "outputs": [],
      "source": []
    },
    {
      "cell_type": "markdown",
      "metadata": {
        "id": "t13xiAw9t1st"
      },
      "source": [
        "#Convolutation Neural network"
      ]
    },
    {
      "cell_type": "code",
      "execution_count": 21,
      "metadata": {
        "id": "vCMlLb7IUxXw"
      },
      "outputs": [],
      "source": [
        "# from tensorflow.keras import layers\n",
        "\n",
        "# model1 = keras.Sequential([\n",
        "#                         #  Convolutation layer\n",
        "#     layers.Conv2D(filters=32,activation='relu',kernel_size =(3,3),input_shape =(32,32,3))  ,\n",
        "#     layers.MaxPooling2D(2,2),\n",
        "#                           # Dense Layer\n",
        "#     keras.layers.Flatten(input_shape=(32, 32, 3)),\n",
        "#     keras.layers.Dense(3000, activation='relu'),\n",
        "#     keras.layers.Dropout(0.2),\n",
        "#     keras.layers.Dense(3000, activation='relu'),\n",
        "#     keras.layers.Dense(3000, activation='relu'),\n",
        "#     keras.layers.Dropout(0.2),\n",
        "#     keras.layers.Dense(10, activation='softmax') # Changed to 10 units and softmax for multi-class\n",
        "# ])\n",
        "# model1.compile(\n",
        "#     optimizer='sgd',\n",
        "#     loss='sparse_categorical_crossentropy', # Changed to categorical_crossentropy\n",
        "#     metrics=['accuracy'] # Corrected 'merticx' to 'metrics'\n",
        "# )\n",
        "# model1.fit(x_train_s, y_train, epochs=5)\n"
      ]
    },
    {
      "cell_type": "markdown",
      "metadata": {
        "id": "sUZvA1_DwGsn"
      },
      "source": [
        "# Multiple Convolutional layers Nural Network"
      ]
    },
    {
      "cell_type": "code",
      "execution_count": 22,
      "metadata": {
        "id": "xrKBzp0lvyU6"
      },
      "outputs": [],
      "source": [
        "\n",
        "\n",
        "# model2 = keras.Sequential([\n",
        "#                         #  Convolutation layer\n",
        "#     layers.Conv2D(filters=32,activation='relu',kernel_size =(3,3),input_shape =(32,32,3))  ,\n",
        "#     layers.MaxPooling2D(2,2),\n",
        "#     layers.Conv2D(filters=62,activation='relu',kernel_size =(3,3),input_shape =(32,32,3))  ,\n",
        "#     layers.MaxPooling2D(2,2),\n",
        "\n",
        "#                           # Dense Layer\n",
        "#     keras.layers.Flatten(input_shape=(32, 32, 3)),\n",
        "#     keras.layers.Dense(3000, activation='relu'),\n",
        "#     keras.layers.Dropout(0.2),\n",
        "#     keras.layers.Dense(3000, activation='relu'),\n",
        "#     keras.layers.Dense(3000, activation='relu'),\n",
        "#     keras.layers.Dropout(0.2),\n",
        "#     keras.layers.Dense(10, activation='softmax') # Changed to 10 units and softmax for multi-class\n",
        "# ])\n",
        "# model2.compile(\n",
        "#     optimizer='sgd',\n",
        "#     loss='sparse_categorical_crossentropy', # Changed to categorical_crossentropy\n",
        "#     metrics=['accuracy'] # Corrected 'merticx' to 'metrics'\n",
        "# )\n",
        "# model2.fit(x_train_s, y_train, epochs=5)\n"
      ]
    },
    {
      "cell_type": "code",
      "execution_count": 23,
      "metadata": {
        "id": "Gj9EmYclwPcO"
      },
      "outputs": [],
      "source": [
        "\n",
        "\n",
        "# model3 = keras.Sequential([\n",
        "#                         #  Convolutation layer\n",
        "#     layers.Conv2D(filters=32,activation='relu',kernel_size =(3,3),input_shape =(32,32,3))  ,\n",
        "#     layers.MaxPooling2D(2,2),\n",
        "#     layers.Conv2D(filters=62,activation='relu',kernel_size =(3,3),input_shape =(32,32,3))  ,\n",
        "#     layers.MaxPooling2D(2,2),\n",
        "#      layers.Conv2D(filters=102,activation='relu',kernel_size =(3,3),input_shape =(32,32,3))  ,\n",
        "#     layers.MaxPooling2D(2,2),\n",
        "\n",
        "#                           # Dense Layer\n",
        "#     keras.layers.Flatten(input_shape=(32, 32, 3)),\n",
        "#     keras.layers.Dense(3000, activation='relu'),\n",
        "#     keras.layers.Dropout(0.2),\n",
        "#     keras.layers.Dense(3000, activation='relu'),\n",
        "#     keras.layers.Dense(3000, activation='relu'),\n",
        "#     keras.layers.Dropout(0.2),\n",
        "#     keras.layers.Dense(10, activation='softmax') # Changed to 10 units and softmax for multi-class\n",
        "# ])\n",
        "# model3.compile(\n",
        "#     optimizer='sgd',\n",
        "#     loss='sparse_categorical_crossentropy', # Changed to categorical_crossentropy\n",
        "#     metrics=['accuracy'] # Corrected 'merticx' to 'metrics'\n",
        "# )\n",
        "# model3.fit(x_train_s, y_train, epochs=5)\n"
      ]
    },
    {
      "cell_type": "code",
      "execution_count": null,
      "metadata": {
        "id": "GzJFXcTyzBIz",
        "colab": {
          "base_uri": "https://localhost:8080/"
        },
        "outputId": "a3c105f4-5ad0-4dac-e0e1-3e11f0613509"
      },
      "outputs": [
        {
          "output_type": "stream",
          "name": "stderr",
          "text": [
            "/usr/local/lib/python3.11/dist-packages/keras/src/layers/convolutional/base_conv.py:107: UserWarning: Do not pass an `input_shape`/`input_dim` argument to a layer. When using Sequential models, prefer using an `Input(shape)` object as the first layer in the model instead.\n",
            "  super().__init__(activity_regularizer=activity_regularizer, **kwargs)\n",
            "/usr/local/lib/python3.11/dist-packages/keras/src/layers/reshaping/flatten.py:37: UserWarning: Do not pass an `input_shape`/`input_dim` argument to a layer. When using Sequential models, prefer using an `Input(shape)` object as the first layer in the model instead.\n",
            "  super().__init__(**kwargs)\n"
          ]
        },
        {
          "output_type": "stream",
          "name": "stdout",
          "text": [
            "Epoch 1/50\n"
          ]
        }
      ],
      "source": [
        "cnn = keras.Sequential([\n",
        "                        #  Convolutation layer\n",
        "    layers.Conv2D(filters=32,activation='relu',kernel_size =(3,3),input_shape =(32,32,3))  ,\n",
        "    layers.MaxPooling2D(2,2),\n",
        "\n",
        "    layers.Conv2D(filters=62,activation='relu',kernel_size =(3,3),input_shape =(32,32,3))  ,\n",
        "    layers.MaxPooling2D(2,2),\n",
        "\n",
        "     layers.Conv2D(filters=102,activation='relu',kernel_size =(3,3),input_shape =(32,32,3))  ,\n",
        "    layers.MaxPooling2D(2,2),\n",
        "\n",
        "                          # Dense Layer\n",
        "    keras.layers.Flatten(input_shape=(32, 32, 3)),\n",
        "    keras.layers.Dense(3000, activation='relu'),\n",
        "    keras.layers.Dropout(0.2),\n",
        "    keras.layers.Dense(3000, activation='relu'),\n",
        "    keras.layers.Dense(3000, activation='relu'),\n",
        "    keras.layers.Dropout(0.2),\n",
        "    keras.layers.Dense(10, activation='softmax') # Changed to 10 units and softmax for multi-class\n",
        "])\n",
        "cnn.compile(\n",
        "    optimizer='adam',\n",
        "    loss='sparse_categorical_crossentropy', # Changed to categorical_crossentropy\n",
        "    metrics=['accuracy'] # Corrected 'merticx' to 'metrics'\n",
        ")\n",
        "cnn.fit(x_train_s, y_train, epochs=50)"
      ]
    },
    {
      "cell_type": "code",
      "execution_count": null,
      "metadata": {
        "id": "yezpnvBO-2ee"
      },
      "outputs": [],
      "source": [
        "# prompt: evalution\n",
        "\n",
        "# Evaluate the model on the test data\n",
        "loss, accuracy = cnn.evaluate(x_test_s, y_test) # Use x_test_s instead of x_test\n",
        "print(f\"Loss: {loss}\")\n",
        "print(f\"Accuracy: {accuracy}\")\n"
      ]
    },
    {
      "cell_type": "code",
      "execution_count": null,
      "metadata": {
        "id": "Wz-TcM_hDn7t"
      },
      "outputs": [],
      "source": [
        "y_pred = cnn.predict(x_test_s)\n",
        "y_class  = [np.argmax(element) for element in y_pred]\n",
        "\n",
        "# Compare predictions with actual values for the first 5 images\n",
        "for i in range(10):\n",
        "    print(f\"Image {i+1}:\")\n",
        "    print(f\"  Predicted class: {y_class[i]}\")\n",
        "    print(f\"  Actual class: {y_test[i][0]}\")\n",
        "\n",
        "    # Optional: Display the image and its label\n",
        "    plt.figure(figsize=(2,2))\n",
        "    plt.imshow(x_test[i])\n",
        "    plt.title(f\"Predicted: {y_class[i]}, Actual: {y_test[i][0]}\")\n",
        "    # plt.show()\n"
      ]
    },
    {
      "cell_type": "code",
      "execution_count": null,
      "metadata": {
        "id": "rgnCIPSDEWmX"
      },
      "outputs": [],
      "source": [
        "# prompt: from sklearn.metrics import confusion_matrix,classification_report\n",
        "# cm = confusion_matrix(y_test,y_class)\n",
        "\n",
        "from sklearn.metrics import confusion_matrix, classification_report\n",
        "\n",
        "cm = confusion_matrix(y_test, y_class)\n",
        "# print(cm)\n",
        "\n",
        "# Assuming you have y_test and y_class defined\n",
        "print(classification_report(y_test, y_class))\n"
      ]
    },
    {
      "cell_type": "code",
      "execution_count": null,
      "metadata": {
        "id": "99Nt2enCM27Y"
      },
      "outputs": [],
      "source": []
    }
  ],
  "metadata": {
    "accelerator": "GPU",
    "colab": {
      "gpuType": "T4",
      "provenance": [],
      "authorship_tag": "ABX9TyO6inmP5th8SPpA9ubXLedx",
      "include_colab_link": true
    },
    "kernelspec": {
      "display_name": "Python 3",
      "name": "python3"
    },
    "language_info": {
      "name": "python"
    }
  },
  "nbformat": 4,
  "nbformat_minor": 0
}